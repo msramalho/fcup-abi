{
 "cells": [
  {
   "cell_type": "markdown",
   "metadata": {},
   "source": [
    "## Aula sobre representação de sequências biológicas (continuação)"
   ]
  },
  {
   "cell_type": "code",
   "execution_count": 1,
   "metadata": {},
   "outputs": [],
   "source": [
    "from abi import is_valid, get_dict_of_aminoacids, dna_valid, dna_invalid"
   ]
  },
  {
   "cell_type": "code",
   "execution_count": 2,
   "metadata": {},
   "outputs": [],
   "source": [
    "def read_sequence(filename=\"example_Hinfluenzae.txt\"):\n",
    "    with open(filename) as f:\n",
    "        return \"\".join(l.strip() for l in f)"
   ]
  },
  {
   "cell_type": "code",
   "execution_count": 3,
   "metadata": {},
   "outputs": [
    {
     "data": {
      "text/plain": [
       "'ATTTAAAAGAACTTAATGATCAAGTTCATCAAAATCTTATTGGGGTGCCAAATAAACGTACCCTTGAATTTGCAAAATATTTGCAAAAACGTAATCAACATACCTGGATTCGTTATGTTGTGGTTCCTGGTTATACTGATAGCGATCACGATGTGCATTTATTAGGTCAGTTTATTGAAGGTATGACCAATATTGAAAAAGTTGAACTTCTTCCTTATCATCGATTAGGTGTGCATAAATGGAAAACCCTTGGGTTAGATTATGAGCTTGAAAATGTATTACCGCCAACTAAAGAATCCTTAGAACATATTAAAACAATCCTAGAAGGTTATGGACACACTGTAAAATTCTAGAATAAATGTCAGCTAACATAAGGAGTAAATAATGAAAAAAATTATTTTAACATTATCACTTGGGTTACTTACCGCTTGTTCTGCTCAAATCCAAAAGGCTGAACAAAATGATGTGAAGCTGGCACCGCCGACTGATGTACGAAGCGGATATATACGTTTGGTAAAGAATGTGAATTATTACATCGATAGTGAATCGATCTGGGTGGATAACCAAGAGCCACAAATTGTACATTTTGATGCTGTGGTGAATTTAGATAGGGGATTGTATGTTTATCCTGAGCCTAAACGTTATGCACGTTCTGTTCGTCAGTATAAGATTTTGAATTGTGCAAATTATCATTTAACTCAAATACGAACTGATTTCTATGATGAATTTTGGGGACAGGGTTTGCGGGCAGCACCTAAAAAGCAAAAGAAACATACGTTAAGTTTAACACCTGATACAACGCTTTATAATGCTGCTCAGATTATTTGTGCAAATTATGGTAAAGCATTTTCAGTTGATAAAAAATAAAAAAATCTGCACCTTAATTAGTTTAAATTTTATTCAATTTTTAGGGTGCAGAGAGTATTCGATTTTTCTGCAGTTATTGCTATTTTACTGCTGGCACTTTTAAGTCTGGCTCGTTTGGTTTTTCAATTGGTGCAAAAGTTTTATCTTTATTCGCATCAATAATTTTTTGAGTATCATTTGCTAATGCGGTTAAACCCATTTTTTCATAAGCTTCCTGCATCAGAAATAATCCTTCATAAGTTGCTTTAGTATCAGGATATTGTTTTAACATTCCTACCACACGATTTGCAACTGCTACCCACGCTTTACGTTTTGCATAGAATTTTGCAATCTCTAATTCGTGACGAGCCAGTGCATCTTTAATATAAGCCATACGAGCTAAAGCAT'"
      ]
     },
     "execution_count": 3,
     "metadata": {},
     "output_type": "execute_result"
    }
   ],
   "source": [
    "read_sequence()"
   ]
  },
  {
   "cell_type": "code",
   "execution_count": 4,
   "metadata": {},
   "outputs": [],
   "source": [
    "def write_seq_to_file(seq, filename=\"output.txt\"):\n",
    "    with open(filename, \"w\") as f:\n",
    "        [f.write(seq[i:i+60] + \"\\n\") for i in range(0, len(seq)+1, 60)]"
   ]
  },
  {
   "cell_type": "code",
   "execution_count": 5,
   "metadata": {},
   "outputs": [
    {
     "data": {
      "text/plain": [
       "'AATTGCGCGATAT'"
      ]
     },
     "execution_count": 5,
     "metadata": {},
     "output_type": "execute_result"
    }
   ],
   "source": [
    "write_seq_to_file(\"AATTGCGCGATAT\")\n",
    "read_sequence(\"output.txt\")"
   ]
  },
  {
   "cell_type": "markdown",
   "metadata": {},
   "source": [
    "#### Read FASTA sequence\n",
    "```python\n",
    ">description\n",
    "ATATCATCTATCGCGCAGCTAGCATCGACT\n",
    "\n",
    ">description of the 2nd\n",
    "ATCGCTCGTCGCTCGATCGTACGACTCGCATGCAAGCATCGACTACGATCG\n",
    "```"
   ]
  },
  {
   "cell_type": "code",
   "execution_count": 25,
   "metadata": {},
   "outputs": [],
   "source": [
    "def read_fasta(filename=\"example_Hinfluenzae.openreadingframes.txt\"):\n",
    "    with open(filename) as f:\n",
    "        fastas = (\"\\n\" + f.read().lstrip()).split(\"\\n>\") # force split on descriptions\n",
    "        for f in fastas[1:]: # ignore the first empty\n",
    "            p = f.split(\"\\n\")\n",
    "            yield (p[0], \"\".join(p[1:]))"
   ]
  },
  {
   "cell_type": "code",
   "execution_count": 26,
   "metadata": {},
   "outputs": [
    {
     "data": {
      "text/plain": [
       "[('ORF number 1 in reading frame 1 on the direct strand extends from base 16 to base 165.',\n",
       "  'ATGATCAAGTTCATCAAAATCTTATTGGGGTGCCAAATAAACGTACCCTTGAATTTGCAAAATATTTGCAAAAACGTAATCAACATACCTGGATTCGTTATGTTGTGGTTCCTGGTTATACTGATAGCGATCACGATGTGCATTTATTAG'),\n",
       " ('Translation of ORF number 1 in reading frame 1 on the direct strand.',\n",
       "  'MIKFIKILLGCQINVPLNLQNICKNVINIPGFVMLWFLVILIAITMCIY*'),\n",
       " ('ORF number 2 in reading frame 1 on the direct strand extends from base 385 to base 867.',\n",
       "  'ATGAAAAAAATTATTTTAACATTATCACTTGGGTTACTTACCGCTTGTTCTGCTCAAATCCAAAAGGCTGAACAAAATGATGTGAAGCTGGCACCGCCGACTGATGTACGAAGCGGATATATACGTTTGGTAAAGAATGTGAATTATTACATCGATAGTGAATCGATCTGGGTGGATAACCAAGAGCCACAAATTGTACATTTTGATGCTGTGGTGAATTTAGATAGGGGATTGTATGTTTATCCTGAGCCTAAACGTTATGCACGTTCTGTTCGTCAGTATAAGATTTTGAATTGTGCAAATTATCATTTAACTCAAATACGAACTGATTTCTATGATGAATTTTGGGGACAGGGTTTGCGGGCAGCACCTAAAAAGCAAAAGAAACATACGTTAAGTTTAACACCTGATACAACGCTTTATAATGCTGCTCAGATTATTTGTGCAAATTATGGTAAAGCATTTTCAGTTGATAAAAAATAA'),\n",
       " ('Translation of ORF number 2 in reading frame 1 on the direct strand.',\n",
       "  'MKKIILTLSLGLLTACSAQIQKAEQNDVKLAPPTDVRSGYIRLVKNVNYYIDSESIWVDNQEPQIVHFDAVVNLDRGLYVYPEPKRYARSVRQYKILNCANYHLTQIRTDFYDEFWGQGLRAAPKKQKKHTLSLTPDTTLYNAAQIICANYGKAFSVDKK*'),\n",
       " ('ORF number 1 in reading frame 2 on the direct strand extends from base 809 to base 970.',\n",
       "  'ATGCTGCTCAGATTATTTGTGCAAATTATGGTAAAGCATTTTCAGTTGATAAAAAATAAAAAAATCTGCACCTTAATTAGTTTAAATTTTATTCAATTTTTAGGGTGCAGAGAGTATTCGATTTTTCTGCAGTTATTGCTATTTTACTGCTGGCACTTTTAA'),\n",
       " ('Translation of ORF number 1 in reading frame 2 on the direct strand.',\n",
       "  'MLLRLFVQIMVKHFQLIKNKKICTLISLNFIQFLGCREYSIFLQLLLFYCWHF*'),\n",
       " ('ORF number 1 in reading frame 3 on the direct strand extends from base 183 to base 353.',\n",
       "  'ATGACCAATATTGAAAAAGTTGAACTTCTTCCTTATCATCGATTAGGTGTGCATAAATGGAAAACCCTTGGGTTAGATTATGAGCTTGAAAATGTATTACCGCCAACTAAAGAATCCTTAGAACATATTAAAACAATCCTAGAAGGTTATGGACACACTGTAAAATTCTAG'),\n",
       " ('Translation of ORF number 1 in reading frame 3 on the direct strand.',\n",
       "  'MTNIEKVELLPYHRLGVHKWKTLGLDYELENVLPPTKESLEHIKTILEGYGHTVKF*'),\n",
       " ('ORF number 1 in reading frame 1 on the reverse strand extends from base 562 to base 651.',\n",
       "  'ATGATAATTTGCACAATTCAAAATCTTATACTGACGAACAGAACGTGCATAACGTTTAGGCTCAGGATAAACATACAATCCCCTATCTAA'),\n",
       " ('Translation of ORF number 1 in reading frame 1 on the reverse strand.',\n",
       "  'MIICTIQNLILTNRTCITFRLRINIQSPI*'),\n",
       " ('ORF number 2 in reading frame 1 on the reverse strand extends from base 670 to base 837.',\n",
       "  'ATGTACAATTTGTGGCTCTTGGTTATCCACCCAGATCGATTCACTATCGATGTAATAATTCACATTCTTTACCAAACGTATATATCCGCTTCGTACATCAGTCGGCGGTGCCAGCTTCACATCATTTTGTTCAGCCTTTTGGATTTGAGCAGAACAAGCGGTAAGTAA'),\n",
       " ('Translation of ORF number 2 in reading frame 1 on the reverse strand.',\n",
       "  'MYNLWLLVIHPDRFTIDVIIHILYQTYISASYISRRCQLHIILFSLLDLSRTSGK*'),\n",
       " ('ORF number 1 in reading frame 2 on the reverse strand extends from base 1097 to base 1252.',\n",
       "  'ATGCACATCGTGATCGCTATCAGTATAACCAGGAACCACAACATAACGAATCCAGGTATGTTGATTACGTTTTTGCAAATATTTTGCAAATTCAAGGGTACGTTTATTTGGCACCCCAATAAGATTTTGATGAACTTGATCATTAAGTTCTTTTAA'),\n",
       " ('Translation of ORF number 1 in reading frame 2 on the reverse strand.',\n",
       "  'MHIVIAISITRNHNITNPGMLITFLQIFCKFKGTFIWHPNKILMNLIIKFF*'),\n",
       " ('ORF number 1 in reading frame 3 on the reverse strand extends from base 15 to base 308.',\n",
       "  'ATGGCTTATATTAAAGATGCACTGGCTCGTCACGAATTAGAGATTGCAAAATTCTATGCAAAACGTAAAGCGTGGGTAGCAGTTGCAAATCGTGTGGTAGGAATGTTAAAACAATATCCTGATACTAAAGCAACTTATGAAGGATTATTTCTGATGCAGGAAGCTTATGAAAAAATGGGTTTAACCGCATTAGCAAATGATACTCAAAAAATTATTGATGCGAATAAAGATAAAACTTTTGCACCAATTGAAAAACCAAACGAGCCAGACTTAAAAGTGCCAGCAGTAAAATAG'),\n",
       " ('Translation of ORF number 1 in reading frame 3 on the reverse strand.',\n",
       "  'MAYIKDALARHELEIAKFYAKRKAWVAVANRVVGMLKQYPDTKATYEGLFLMQEAYEKMGLTALANDTQKIIDANKDKTFAPIEKPNEPDLKVPAVK*')]"
      ]
     },
     "execution_count": 26,
     "metadata": {},
     "output_type": "execute_result"
    }
   ],
   "source": [
    "list(read_fasta())"
   ]
  },
  {
   "cell_type": "code",
   "execution_count": 27,
   "metadata": {},
   "outputs": [
    {
     "data": {
      "text/plain": [
       "16"
      ]
     },
     "execution_count": 27,
     "metadata": {},
     "output_type": "execute_result"
    }
   ],
   "source": [
    "len(list(read_fasta()))"
   ]
  },
  {
   "cell_type": "markdown",
   "metadata": {},
   "source": [
    "### Translate a sequence of codons into aminoacid sequence"
   ]
  },
  {
   "cell_type": "code",
   "execution_count": 18,
   "metadata": {},
   "outputs": [],
   "source": [
    "DICT_AMINOACIDS = get_dict_of_aminoacids()\n",
    "def translate_codon(cod):\n",
    "    return DICT_AMINOACIDS[cod] if cod in DICT_AMINOACIDS else None"
   ]
  },
  {
   "cell_type": "code",
   "execution_count": 22,
   "metadata": {
    "scrolled": true
   },
   "outputs": [
    {
     "name": "stdout",
     "output_type": "stream",
     "text": [
      "{'P', 'F', '_', 'M', 'I', 'R', 'K', 'A', 'L', 'V', 'Q', 'E', 'C', 'N', 'W', 'H', 'S', 'T', 'D', 'G', 'Y'}\n"
     ]
    }
   ],
   "source": [
    "print(set(DICT_AMINOACIDS.values()))"
   ]
  },
  {
   "cell_type": "code",
   "execution_count": 9,
   "metadata": {},
   "outputs": [
    {
     "data": {
      "text/plain": [
       "'A'"
      ]
     },
     "execution_count": 9,
     "metadata": {},
     "output_type": "execute_result"
    }
   ],
   "source": [
    "translate_codon(\"GCT\")"
   ]
  },
  {
   "cell_type": "code",
   "execution_count": 10,
   "metadata": {},
   "outputs": [],
   "source": [
    "def translate_seq(dna, ini_pos=0):\n",
    "    assert is_valid(dna), \"DNA should be valid\"\n",
    "    return \"\".join(translate_codon(dna[i:i+3]) for i in range(ini_pos,len(dna) - 2, 3))"
   ]
  },
  {
   "cell_type": "code",
   "execution_count": 11,
   "metadata": {},
   "outputs": [
    {
     "name": "stdout",
     "output_type": "stream",
     "text": [
      "MKL_MSLS_SIAHQTTLRLRLSIIVNVNK_N\n"
     ]
    }
   ],
   "source": [
    "print(translate_seq(dna_valid()))"
   ]
  },
  {
   "cell_type": "markdown",
   "metadata": {},
   "source": [
    "#### Codon frequency\n",
    "Given that each aminoacid can be enconded by more than one codon and that different species tend to have different codons it is relevant to check their frequency"
   ]
  },
  {
   "cell_type": "code",
   "execution_count": 12,
   "metadata": {},
   "outputs": [],
   "source": [
    "def codon_frequency(dna, aminoacid):\n",
    "    dna = dna.upper()\n",
    "    assert is_valid(dna), \"DNA should be valid\"\n",
    "    codons = [k for k, v in get_dict_of_aminoacids().items() if v == aminoacid] # get relevant codons\n",
    "    dna_codons = [dna[i:i+3] for i in range(0, len(dna)-2, 3)] # get all the codons in the dna sequence\n",
    "    return {codon: dna_codons.count(codon)/len(dna_codons) for codon in codons} # output the frequency"
   ]
  },
  {
   "cell_type": "code",
   "execution_count": 13,
   "metadata": {},
   "outputs": [
    {
     "data": {
      "text/plain": [
       "{'AGA': 0.06451612903225806,\n",
       " 'AGG': 0.0,\n",
       " 'CGA': 0.0,\n",
       " 'CGC': 0.0,\n",
       " 'CGG': 0.0,\n",
       " 'CGT': 0.0}"
      ]
     },
     "execution_count": 13,
     "metadata": {},
     "output_type": "execute_result"
    }
   ],
   "source": [
    "codon_frequency(dna_valid(), \"R\")"
   ]
  },
  {
   "cell_type": "code",
   "execution_count": 14,
   "metadata": {},
   "outputs": [],
   "source": [
    "# given a dna sequence obtain all the possible aminoacid sequences so as to get their reading frames\n",
    "def reading_frames(dna):\n",
    "    rdna = dna[::-1]\n",
    "    return [translate_seq(dna), translate_seq(dna, 1), translate_seq(dna, 2), translate_seq(rdna), translate_seq(rdna, 1), translate_seq(rdna, 2)]"
   ]
  },
  {
   "cell_type": "code",
   "execution_count": 15,
   "metadata": {},
   "outputs": [
    {
     "data": {
      "text/plain": [
       "['MKL_MSLS_SIAHQTTLRLRLSIIVNVNK_N',\n",
       " '_NYE_ASAEASRIRLRSDSDSAL__MLINKI',\n",
       " 'EIMNEPQLKHRASDYAQTQTQHYSEC__IK_',\n",
       " 'NKINNCK_YYDSDSDSHQTTRYEVDSE_VLK',\n",
       " 'IK_IIVSDITTQTQTRIRLRATKSTPSKY_S',\n",
       " '_NK_L_VILRLRLRLASDYALRSRLRVSIKV']"
      ]
     },
     "execution_count": 15,
     "metadata": {},
     "output_type": "execute_result"
    }
   ],
   "source": [
    "reading_frames(dna_valid())"
   ]
  },
  {
   "cell_type": "code",
   "execution_count": 16,
   "metadata": {},
   "outputs": [],
   "source": [
    "# get reading frames that start with M and end with _\n",
    "def open_reading_frames(dna):\n",
    "    frames = reading_frames(dna)\n",
    "    for frame in frames:\n",
    "        orf, ms = [], []\n",
    "        for i, f in enumerate(frame):\n",
    "            if f == \"M\": ms.append(i)\n",
    "            elif f == \"_\":\n",
    "                for m in ms: orf.append(frame[m:i+1])\n",
    "                ms = []\n",
    "        yield orf"
   ]
  },
  {
   "cell_type": "code",
   "execution_count": 17,
   "metadata": {},
   "outputs": [
    {
     "data": {
      "text/plain": [
       "[['MKL_', 'MSLS_'], [], ['MNEPQLKHRASDYAQTQTQHYSEC_'], [], [], []]"
      ]
     },
     "execution_count": 17,
     "metadata": {},
     "output_type": "execute_result"
    }
   ],
   "source": [
    "list(open_reading_frames(dna_valid()))"
   ]
  },
  {
   "cell_type": "code",
   "execution_count": null,
   "metadata": {},
   "outputs": [],
   "source": []
  }
 ],
 "metadata": {
  "kernelspec": {
   "display_name": "Python 3",
   "language": "python",
   "name": "python3"
  },
  "language_info": {
   "codemirror_mode": {
    "name": "ipython",
    "version": 3
   },
   "file_extension": ".py",
   "mimetype": "text/x-python",
   "name": "python",
   "nbconvert_exporter": "python",
   "pygments_lexer": "ipython3",
   "version": "3.6.4"
  },
  "latex_envs": {
   "LaTeX_envs_menu_present": true,
   "autoclose": false,
   "autocomplete": true,
   "bibliofile": "biblio.bib",
   "cite_by": "apalike",
   "current_citInitial": 1,
   "eqLabelWithNumbers": true,
   "eqNumInitial": 1,
   "hotkeys": {
    "equation": "Ctrl-E",
    "itemize": "Ctrl-I"
   },
   "labels_anchors": false,
   "latex_user_defs": false,
   "report_style_numbering": false,
   "user_envs_cfg": false
  }
 },
 "nbformat": 4,
 "nbformat_minor": 2
}

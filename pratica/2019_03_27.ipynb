{
 "cells": [
  {
   "cell_type": "markdown",
   "metadata": {},
   "source": [
    "# Needleman–Wunsch algorithm \n",
    "For string alignment.\n",
    "\n",
    "Given the cost of `gap`, `match` and `mismatch` calculate the matrices S (score) and T (trace) that give the minimum alignment cost.\n",
    "\n",
    "In the **trace** matrix we have the following direction encoding:\n",
    " * 1 - Diagonal (down and right)\n",
    " * 2 - Vertical (down)\n",
    " * 3 - Horizontal (ltr)"
   ]
  },
  {
   "cell_type": "code",
   "execution_count": 15,
   "metadata": {},
   "outputs": [],
   "source": [
    "import numpy as np"
   ]
  },
  {
   "cell_type": "code",
   "execution_count": 96,
   "metadata": {},
   "outputs": [],
   "source": [
    "TERMINATION = 0\n",
    "DIAGONAL    = 1\n",
    "VERTICAL    = 2\n",
    "HORIZONTAL  = 3"
   ]
  },
  {
   "cell_type": "code",
   "execution_count": 98,
   "metadata": {},
   "outputs": [],
   "source": [
    "seq1 = \"ACTA\"\n",
    "seq2 = \"TACT\""
   ]
  },
  {
   "cell_type": "code",
   "execution_count": 142,
   "metadata": {},
   "outputs": [],
   "source": [
    "def needleman_wunsch(s1, s2, gap=-3, match=3, mismatch=-1):\n",
    "    dim = (len(s1)+1, len(s2)+1)\n",
    "    S, T = np.zeros(shape=dim, dtype=int), np.zeros(shape=dim, dtype=int)\n",
    "    # initial values\n",
    "    T[0]  = HORIZONTAL\n",
    "    T[:,0]= VERTICAL\n",
    "    T[0,0]= TERMINATION\n",
    "    S[0]   = [i * gap for i in range(len(s1)+1)]\n",
    "    S[:,0] = [i * gap for i in range(len(s2)+1)]\n",
    "    # perform algoritm\n",
    "    T = T.tolist()\n",
    "    for i, c1 in enumerate(s1):\n",
    "        for j, c2 in enumerate(s2):\n",
    "            cost = match if c1 == c2 else mismatch\n",
    "            scores = [S[i][j] + cost, S[i+1][j] + gap, S[i][j+1] + gap]\n",
    "            m = max(scores)\n",
    "            S[i+1][j+1] = m\n",
    "            T[i+1][j+1] = [i+1 for i,x in enumerate(scores) if x == m]\n",
    "    for i in range(dim[0]):T[0][i] = [T[0][i]]\n",
    "    for i in range(dim[1]):T[i][0] = [T[i][0]]\n",
    "    return S, T"
   ]
  },
  {
   "cell_type": "code",
   "execution_count": 143,
   "metadata": {},
   "outputs": [
    {
     "name": "stdout",
     "output_type": "stream",
     "text": [
      "(array([[  0,  -3,  -6,  -9, -12],\n",
      "       [ -3,  -1,   0,  -3,  -6],\n",
      "       [ -6,  -4,  -2,   3,   0],\n",
      "       [ -9,  -3,  -5,   0,   6],\n",
      "       [-12,  -6,   0,  -3,   3]]), [[[[0]], [3], [3], [3], [3]], [[2], [1], [1], [2], [2]], [[2], [1, 3], [1], [1], [2]], [[2], [1], [1, 3], [3], [1]], [[2], [3], [1], [2, 3], [3]]])\n"
     ]
    }
   ],
   "source": [
    "print(needleman_wunsch(seq1, seq2))"
   ]
  },
  {
   "cell_type": "code",
   "execution_count": 153,
   "metadata": {},
   "outputs": [],
   "source": [
    "def backtrack_needleman_wunsch(s1, s2, S, T):\n",
    "    i, j = map(lambda x: x-1, S.shape)\n",
    "    res = [\"\", \"\"]\n",
    "    while i > 0 or j > 0:\n",
    "        if DIAGONAL in T[i][j]:\n",
    "            res[0]+=s1[-1]; s1 = s1[:-1]\n",
    "            res[1]+=s2[-1]; s2 = s2[:-1]\n",
    "            i-=1\n",
    "            j-=1\n",
    "        elif HORIZONTAL in T[i][j]:\n",
    "            res[0]+=s1[-1]; s1 = s1[:-1]\n",
    "            res[1]+=\"_\"\n",
    "            j-=1\n",
    "        elif VERTICAL in T[i][j]:\n",
    "            res[0]+=\"_\"\n",
    "            res[1]+=s2[-1]; s2 = s2[:-1]\n",
    "            i-=1\n",
    "        \n",
    "    return tuple(map(lambda x: x[::-1], res))"
   ]
  },
  {
   "cell_type": "code",
   "execution_count": 154,
   "metadata": {},
   "outputs": [
    {
     "data": {
      "text/plain": [
       "('__ACTA', 'TACT__')"
      ]
     },
     "execution_count": 154,
     "metadata": {},
     "output_type": "execute_result"
    }
   ],
   "source": [
    "s, t = needleman_wunsch(seq1, seq2)\n",
    "backtrack_needleman_wunsch(seq1, seq2, s, t)"
   ]
  },
  {
   "cell_type": "markdown",
   "metadata": {},
   "source": [
    "# Types of Alignment\n",
    "There are 2 types of alignment, local and global:\n",
    "* local  - por exemplo quando duas espécies já divergiram muito mas ainda podem ter partes em comum\n",
    "* global - se se espera uma similariedade grande entre a sequência"
   ]
  },
  {
   "cell_type": "markdown",
   "metadata": {},
   "source": [
    "# Smith Waterman - Local sequence alignment\n",
    "Reformulates the notion of sequence in the DP algorithm\n",
    "\n",
    "The S matrix is initialized with 0s on the first row and column.\n",
    "\n",
    "If the result of a cell is negative, the actual value to use is 0.\n",
    "\n",
    "To backtrack we find the largest"
   ]
  }
 ],
 "metadata": {
  "kernelspec": {
   "display_name": "Python 3",
   "language": "python",
   "name": "python3"
  },
  "language_info": {
   "codemirror_mode": {
    "name": "ipython",
    "version": 3
   },
   "file_extension": ".py",
   "mimetype": "text/x-python",
   "name": "python",
   "nbconvert_exporter": "python",
   "pygments_lexer": "ipython3",
   "version": "3.7.2"
  },
  "latex_envs": {
   "LaTeX_envs_menu_present": true,
   "autoclose": false,
   "autocomplete": true,
   "bibliofile": "biblio.bib",
   "cite_by": "apalike",
   "current_citInitial": 1,
   "eqLabelWithNumbers": true,
   "eqNumInitial": 1,
   "hotkeys": {
    "equation": "Ctrl-E",
    "itemize": "Ctrl-I"
   },
   "labels_anchors": false,
   "latex_user_defs": false,
   "report_style_numbering": false,
   "user_envs_cfg": false
  }
 },
 "nbformat": 4,
 "nbformat_minor": 2
}

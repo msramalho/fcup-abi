{
 "cells": [
  {
   "cell_type": "markdown",
   "metadata": {},
   "source": [
    "# Multiple Sequence Alignment\n",
    "Alignment for > 2 sequences, Clustal is the most used algorithm for this.\n",
    "\n",
    "Consesnsus sequence: a sequence whose nucleotids is the most frequent nucleotid at a given index. \n",
    "\n",
    "This algorithm is note very scalable as the number of sequences increases.\n",
    "\n",
    "Combinations of N, two by two: $\\frac{n * (n-1)}{2}$\n",
    "\n",
    "Clustal creates a matrix of scores as we did in the practical project, the one with the pair with the higher value is chosen, those are aligned and the consensus sequence is taken from those two and aligned with the next sequence with highest score, this is done until the last consensus is obtained, each consensus is done with all the previous sequences and not with the previous consensus, so as to lose less information. "
   ]
  },
  {
   "cell_type": "code",
   "execution_count": null,
   "metadata": {},
   "outputs": [],
   "source": []
  }
 ],
 "metadata": {
  "kernelspec": {
   "display_name": "Python 3",
   "language": "python",
   "name": "python3"
  },
  "language_info": {
   "codemirror_mode": {
    "name": "ipython",
    "version": 3
   },
   "file_extension": ".py",
   "mimetype": "text/x-python",
   "name": "python",
   "nbconvert_exporter": "python",
   "pygments_lexer": "ipython3",
   "version": "3.7.2"
  },
  "latex_envs": {
   "LaTeX_envs_menu_present": true,
   "autoclose": false,
   "autocomplete": true,
   "bibliofile": "biblio.bib",
   "cite_by": "apalike",
   "current_citInitial": 1,
   "eqLabelWithNumbers": true,
   "eqNumInitial": 1,
   "hotkeys": {
    "equation": "Ctrl-E",
    "itemize": "Ctrl-I"
   },
   "labels_anchors": false,
   "latex_user_defs": false,
   "report_style_numbering": false,
   "user_envs_cfg": false
  }
 },
 "nbformat": 4,
 "nbformat_minor": 2
}

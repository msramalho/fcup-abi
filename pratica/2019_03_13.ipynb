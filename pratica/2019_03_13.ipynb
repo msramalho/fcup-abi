{
 "cells": [
  {
   "cell_type": "markdown",
   "metadata": {},
   "source": [
    "# Restriction Enzymes\n",
    "There is an enzyme database [rebase](http://rebase.neb.com/rebase/rebase.html) that contains a special format (also adpoted by [IUPAC](https://iupac.org/):\n",
    "\n",
    "<h2 align=\"center\"><code>G^AATTC</code></h2>\n",
    "\n",
    "Where the `^` identifies the position of the DNA sequence where the cut is performed, below are some useful functions to handle this."
   ]
  },
  {
   "cell_type": "code",
   "execution_count": 1,
   "metadata": {},
   "outputs": [],
   "source": [
    "from re import finditer"
   ]
  },
  {
   "cell_type": "code",
   "execution_count": 2,
   "metadata": {},
   "outputs": [],
   "source": [
    "enz = \"G^AANTC\"\n",
    "dna1 = \"ATGAAAGAAGTCTTATGAATGAGCCTCAGCTGAAGAANTCCATCGCGCAGAANTCCTACGCTCAGACTCAGACTCAGCATTATAGTGAATTCTTAATAAATAAAATAA\""
   ]
  },
  {
   "cell_type": "code",
   "execution_count": 3,
   "metadata": {},
   "outputs": [],
   "source": [
    "def rebase_to_regex(rebase):\n",
    "    dic = {\"U\": \"T\", \"R\": \"[AG]\", \"Y\":\"[CT]\", \"S\":\"[CG]\", \"W\":\"[AT]\", \"K\":\"[GT]\", \"M\":\"[AC]\", \"B\":\"[CGT]\", \"D\":\"[AGT]\", \"H\":\"[ACT]\", \"V\":\"[ACG]\", \"N\":\"[ACGT]\", \"-\":\".\", \"^\":\"\"}\n",
    "    return \"\".join(map(lambda x: x if x not in dic else dic[x], rebase)), rebase.index(\"^\")"
   ]
  },
  {
   "cell_type": "code",
   "execution_count": 4,
   "metadata": {},
   "outputs": [
    {
     "name": "stdout",
     "output_type": "stream",
     "text": [
      "('GAA[ACGT]TC', 1)\n"
     ]
    }
   ],
   "source": [
    "reg = rebase_to_regex(enz)\n",
    "print(reg)\n",
    "assert reg == (\"GAA[ACGT]TC\", 1), \"There seems to be an error with the function\""
   ]
  },
  {
   "cell_type": "code",
   "execution_count": 5,
   "metadata": {},
   "outputs": [],
   "source": [
    "def cut_positions(dna, enz):\n",
    "    \"\"\"given a DNA seq and a rebase enzyme, get the positions where cuts will happen in the enzyme\"\"\"\n",
    "    reg, off = rebase_to_regex(enz)\n",
    "    for x in finditer(reg, dna): yield x.span()[0] + off"
   ]
  },
  {
   "cell_type": "code",
   "execution_count": 6,
   "metadata": {},
   "outputs": [
    {
     "name": "stdout",
     "output_type": "stream",
     "text": [
      "[7, 87]\n"
     ]
    }
   ],
   "source": [
    "positions = list(cut_positions(dna1, enz))\n",
    "print(positions)\n",
    "assert positions == [7, 87], \"There seems to be an error with the function\""
   ]
  },
  {
   "cell_type": "code",
   "execution_count": 7,
   "metadata": {},
   "outputs": [],
   "source": [
    "def cut_subsequences(dna, enz):\n",
    "    \"\"\"Given a dna sequence and a restriction enzyme, return the resulting cut subsequences\"\"\"\n",
    "    last = 0\n",
    "    for p in cut_positions(dna, enz):\n",
    "        yield dna[last:p]\n",
    "        last = p\n",
    "    yield dna[last:]"
   ]
  },
  {
   "cell_type": "code",
   "execution_count": 8,
   "metadata": {},
   "outputs": [
    {
     "name": "stdout",
     "output_type": "stream",
     "text": [
      "['ATGAAAG', 'AAGTCTTATGAATGAGCCTCAGCTGAAGAANTCCATCGCGCAGAANTCCTACGCTCAGACTCAGACTCAGCATTATAGTG', 'AATTCTTAATAAATAAAATAA']\n"
     ]
    }
   ],
   "source": [
    "subseq = list(cut_subsequences(dna1, enz))\n",
    "print(subseq)\n",
    "assert subseq == ['ATGAAAG', 'AAGTCTTATGAATGAGCCTCAGCTGAAGAANTCCATCGCGCAGAANTCCTACGCTCAGACTCAGACTCAGCATTATAGTG', 'AATTCTTAATAAATAAAATAA'], \"There seems to be an error with the function\""
   ]
  },
  {
   "cell_type": "markdown",
   "metadata": {},
   "source": [
    "# Out of RegEx and into the frying counters"
   ]
  },
  {
   "cell_type": "code",
   "execution_count": 19,
   "metadata": {},
   "outputs": [],
   "source": [
    "from collections import defaultdict"
   ]
  },
  {
   "cell_type": "code",
   "execution_count": 40,
   "metadata": {},
   "outputs": [],
   "source": [
    "def find_repeated_subsequences_len_k(seq, k, top=None):\n",
    "    freq = defaultdict(int)\n",
    "    for i in range(0, len(seq) - k + 1): freq[seq[i:i+k]]+=1\n",
    "    return sorted(freq.items(), key=lambda x: x[1], reverse=True)[:top if top else len(freq)]"
   ]
  },
  {
   "cell_type": "code",
   "execution_count": 43,
   "metadata": {},
   "outputs": [
    {
     "name": "stdout",
     "output_type": "stream",
     "text": [
      "[('ABC', 3), ('BCA', 2), ('CAB', 2), ('BCD', 1), ('CDF', 1), ('DFG', 1)]\n"
     ]
    }
   ],
   "source": [
    "res = find_repeated_subsequences_len_k(\"ABCABCABCDFG\", 3)\n",
    "print(res)\n",
    "assert res == [('ABC', 3), ('BCA', 2), ('CAB', 2), ('BCD', 1), ('CDF', 1), ('DFG', 1)], \"There seems to be an error with the function\""
   ]
  },
  {
   "cell_type": "code",
   "execution_count": null,
   "metadata": {},
   "outputs": [],
   "source": []
  }
 ],
 "metadata": {
  "kernelspec": {
   "display_name": "Python 3",
   "language": "python",
   "name": "python3"
  },
  "language_info": {
   "codemirror_mode": {
    "name": "ipython",
    "version": 3
   },
   "file_extension": ".py",
   "mimetype": "text/x-python",
   "name": "python",
   "nbconvert_exporter": "python",
   "pygments_lexer": "ipython3",
   "version": "3.6.4"
  },
  "latex_envs": {
   "LaTeX_envs_menu_present": true,
   "autoclose": false,
   "autocomplete": true,
   "bibliofile": "biblio.bib",
   "cite_by": "apalike",
   "current_citInitial": 1,
   "eqLabelWithNumbers": true,
   "eqNumInitial": 1,
   "hotkeys": {
    "equation": "Ctrl-E",
    "itemize": "Ctrl-I"
   },
   "labels_anchors": false,
   "latex_user_defs": false,
   "report_style_numbering": false,
   "user_envs_cfg": false
  }
 },
 "nbformat": 4,
 "nbformat_minor": 2
}

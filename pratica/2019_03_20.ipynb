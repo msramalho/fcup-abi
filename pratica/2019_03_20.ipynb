{
 "cells": [
  {
   "cell_type": "markdown",
   "metadata": {},
   "source": [
    "# Sequence Alignment\n",
    "Optimization problem, pairwise sequence alignment, two sequences (finite alphabet), objective function.\n",
    "\n",
    "The end goal is an optimal alignment (maximizes the objective function)\n",
    "\n",
    "The objective function is additive for (DNA & RNA):\n",
    " * `matches: +2/+3` (positive contribution)\n",
    " * `mismatches: -2/-3` (replacement, negative contribution)\n",
    " * `gaps: -2/-3`(higher impact than replacement, negative contribution)\n",
    " \n",
    " Substitution matrix -> assigns a value for each pair, does not consider gaps"
   ]
  },
  {
   "cell_type": "code",
   "execution_count": null,
   "metadata": {},
   "outputs": [],
   "source": []
  }
 ],
 "metadata": {
  "kernelspec": {
   "display_name": "Python 3",
   "language": "python",
   "name": "python3"
  },
  "language_info": {
   "codemirror_mode": {
    "name": "ipython",
    "version": 3
   },
   "file_extension": ".py",
   "mimetype": "text/x-python",
   "name": "python",
   "nbconvert_exporter": "python",
   "pygments_lexer": "ipython3",
   "version": "3.6.4"
  },
  "latex_envs": {
   "LaTeX_envs_menu_present": true,
   "autoclose": false,
   "autocomplete": true,
   "bibliofile": "biblio.bib",
   "cite_by": "apalike",
   "current_citInitial": 1,
   "eqLabelWithNumbers": true,
   "eqNumInitial": 1,
   "hotkeys": {
    "equation": "Ctrl-E",
    "itemize": "Ctrl-I"
   },
   "labels_anchors": false,
   "latex_user_defs": false,
   "report_style_numbering": false,
   "user_envs_cfg": false
  }
 },
 "nbformat": 4,
 "nbformat_minor": 2
}

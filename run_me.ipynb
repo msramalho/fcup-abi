{
 "cells": [
  {
   "cell_type": "code",
   "execution_count": 1,
   "metadata": {},
   "outputs": [],
   "source": [
    "from bioseq import *"
   ]
  },
  {
   "cell_type": "markdown",
   "metadata": {},
   "source": [
    "### Load the substitution matrices for further use"
   ]
  },
  {
   "cell_type": "code",
   "execution_count": 2,
   "metadata": {},
   "outputs": [],
   "source": [
    "blosum = read_substitution_matrix_file(\"bioseq/resources/blosum62.mat\")\n",
    "sm = substitution_matrix(\"ATGC_\", 1, -1)"
   ]
  },
  {
   "cell_type": "markdown",
   "metadata": {},
   "source": [
    "# Blast\n",
    "Perform blast on the provided database and sequence"
   ]
  },
  {
   "cell_type": "code",
   "execution_count": 3,
   "metadata": {},
   "outputs": [],
   "source": [
    "# initialize (will load the database with k=3)\n",
    "b = Blast(\"bioseq/resources/seqdump.txt\", 3)"
   ]
  },
  {
   "cell_type": "code",
   "execution_count": 4,
   "metadata": {},
   "outputs": [
    {
     "name": "stdout",
     "output_type": "stream",
     "text": [
      "Items in the db:  21\n"
     ]
    }
   ],
   "source": [
    "print(\"Items in the db: \", len(b.db))"
   ]
  },
  {
   "cell_type": "code",
   "execution_count": 5,
   "metadata": {},
   "outputs": [],
   "source": [
    "# Load the query sequence from the \"source.fasta\" file\n",
    "q = next(read_fasta(\"bioseq/resources/source.fasta\"))"
   ]
  },
  {
   "cell_type": "code",
   "execution_count": 6,
   "metadata": {},
   "outputs": [
    {
     "name": "stderr",
     "output_type": "stream",
     "text": [
      "100%|█████████████████| 8879/8879 [00:20<00:00, 423.74it/s]\n"
     ]
    }
   ],
   "source": [
    "# Perform BLAST search over the previously loaded database\n",
    "# By default returns top=10 with a search treshold=0.5\n",
    "similar = b.search(q)"
   ]
  },
  {
   "cell_type": "code",
   "execution_count": 7,
   "metadata": {},
   "outputs": [
    {
     "name": "stdout",
     "output_type": "stream",
     "text": [
      "Sorted scores:\n",
      "XP_016791527.1 cytochrome P450 2B6 [Pan troglodytes] : 0.9901960784313726\n",
      "XP_014198168.1 cytochrome P450 2B6 [Pan paniscus] : 0.9901960784313726\n",
      "XP_004060827.2 PREDICTED: cytochrome P450 2B6 [Gorilla gorilla gorilla] : 0.9852941176470589\n",
      "XP_002829303.1 cytochrome P450 2B6 [Pongo abelii] : 0.9742120343839542\n",
      "XP_002829302.1 cytochrome P450 2B6-like [Pongo abelii] : 0.974025974025974\n",
      "NP_001274566.1 cytochrome P450, family 2, subfamily B, polypeptide 6 precursor [Macaca fascicularis] : 0.9545454545454546\n",
      "NP_001035302.1 cytochrome P450 2B6 precursor [Macaca mulatta] : 0.9523809523809523\n",
      "XP_011762997.1 cytochrome P450 2B6 [Macaca nemestrina] : 0.9523809523809523\n",
      "XP_025229771.1 cytochrome P450 2B6 [Theropithecus gelada] : 0.9523809523809523\n",
      "XP_011942184.1 PREDICTED: cytochrome P450 2B6 isoform X1 [Cercocebus atys] : 0.9523809523809523\n"
     ]
    }
   ],
   "source": [
    "print(\"Sorted scores:\")\n",
    "for seq, score in similar:\n",
    "    print(seq.name, \":\", score)"
   ]
  },
  {
   "cell_type": "code",
   "execution_count": 8,
   "metadata": {},
   "outputs": [],
   "source": [
    "# get a list with all the sequences (including the query sequence) for the next step: MSA\n",
    "blast_seqs = [x[0] for x in similar] + [q]"
   ]
  },
  {
   "cell_type": "markdown",
   "metadata": {},
   "source": [
    "# Multiple Sequence Alignment"
   ]
  },
  {
   "cell_type": "code",
   "execution_count": 9,
   "metadata": {},
   "outputs": [],
   "source": [
    "# create an MSA instance with blosum62 and a gap penalty of -1\n",
    "m = MSA(blosum, -1)"
   ]
  },
  {
   "cell_type": "code",
   "execution_count": 10,
   "metadata": {},
   "outputs": [
    {
     "name": "stderr",
     "output_type": "stream",
     "text": [
      "100%|██████████████████████| 10/10 [00:38<00:00,  3.70s/it]\n"
     ]
    }
   ],
   "source": [
    "# perform the MSA on the blast sequences\n",
    "consensus, aligned_seqs = m.align(blast_seqs)"
   ]
  },
  {
   "cell_type": "code",
   "execution_count": 11,
   "metadata": {},
   "outputs": [
    {
     "name": "stdout",
     "output_type": "stream",
     "text": [
      "Consensus: MQGSQTRTMELSVLLFLALLTGLLLLLVQRHPNTHGRLPPGPCRPLPLLGNLLQMDRRGLLKSFHLRFREKYGDVFTVHLGPRPVVMLCGVEAIREALVDKAEAFSGRGKIAIMVDPVFQGYGVIFANGNRWKVLRRFSVTTMRDFGMGKRSVEERIQEEAQCLIEELRKSKGALMDPTFLFHSITANIICSIVFGKRFHYQDQEFLKILNLFYQTFSLASSVFGQLFELFSGFLKYFPGAHRQVYKNLQEINAYIGHSVEKHRETLDPSAPQDLIDTYLLHMEKEKSNPHSEFSHQNLNILNTLSLFFAGTETTSTTLCRYGFLLMLKYPHVAERVYKEIEQVIGPHCRPPELDDRAKMPYTEAVIHEIQRFADLLPMGVPHIVTQHTSFRGYIIPKDTEVFPLILSTALHDPHYFEKPDAFNPDHFLDANGALKKNEAFIPFSLGKRICLGEGIARAELFLFFTTILQNFSVASPVALPEDIDLTPQECGVGKIPPTYQIRFLPR\n"
     ]
    }
   ],
   "source": [
    "print(\"Consensus:\", consensus)"
   ]
  },
  {
   "cell_type": "code",
   "execution_count": 12,
   "metadata": {},
   "outputs": [
    {
     "name": "stdout",
     "output_type": "stream",
     "text": [
      "Aligned sequences: [MQGSQTRTMELSVLLFLALLTGLLLLLVQRHPNTHGRLPPGP_RPLPLLGNLLQMDRRGLLKSF_LRFREKYGDVFTVHLGPRPVVMLCGVEAIREALVDKAEAFSGRGKIA_MVDPFFRGYGVIFANGNRWKVLRRFSVTTMRDFGMGKRSVEERIQEEAQCLIEELRKSKGALMDPTFLFQSITANIICSIVFGKRFHYQDQEFLKMLNLFYQTFSLVSSVFGQLFELFSGFLKYFPGAHRQVYKNLQEINAYIGHSVEKHRETLDPSAPKDLIDTYLLHMEKEKSDAHSEFSHQNL_TLNTLSLFFAGTETTSTTL_RYGFLLMLKYPHVAERVYREIEQVIGPH_RPPELHDRAKMPYTEAVIYEIQRFSDLLPMGVPHIVTQHTSFRGYIIPKDTEVF_LILSTALHDPHYFEKPDAFNPDHFLDANGALKKNEAFIPFSLGKRICLGEGIARAELFLFFTTILQNFSVASPEA_PEDIDLTPQECGVGKIPPTYQIRFLPR, ________MELSVLLFLALLTGLLLLLVQRHPNTHGRLPPGP_RPLPLLGNLLQMDRRGLLKSF_LRFREKYGDVFTVHLGPRPVVMLCGVEAIREALVDKAEAFSGRGKIA_MVDPFFRGYGVIFANGNRWKVLRRFSVTTMRDFGMGKRSVEERIQEEAQCLIEELRKSKGALMDPTFLFQSITANIICSIVFGKRFHYQDQEFLKMLNLFYQTFSLVSSVFGQLFELFSGFLKYFPGAHRQVYKNLQEINAYIGHSVEKHRETLDPSAPKDLIDTYLLHMEKEKSDAHSEFSHQNL_TLNTLSLFFAGTETTSTTL_RYGFLLMLKYPHVAERVYREIEQVIGPH_RPPELHDRAKMPYTEAVIYEIQRFSDLLPMGVPHIVTQHTSFRGYIIPKDTEVF_LILSTALHDPHYFEKPDAFNPDHFLDANGALKKNEAFIPFSLGKRICLGEGIARAELFLFFTTILQNFSVASPEA_PEDIDLTPQECGVGKIPPTYQIRFLPR, ________MELSVLLFLALLTGLLLLLVQRHPNTHGRLPPGP_RPLPLLGNLLQMDRRGLLKSF_LRFREKYGDVFTVHLGPRPVVMLCGVEAIREALVDKAEAFSGRGKIA_MVDPFFRGYGVIFANGNRWKALRRFSVTTMRDFGMGKRSVEERIQEEAQCLIEELRKSKGALMDPTFLFQSITANIICSIVFGKRFHYQDQEFLKMLNLFYQTFSLVSSVFGQLFELFSGFLKYFPGAHRQVYKNLQEINAYVGHSVEKHRETLDPSAPRDLIDTYLLHMEKEKSNPHSEFSHQNL_TLNTLSLFFAGTETTSTTL_RYGFLLMLKYPHVAERVYREIEQVIGPR_RPPELHDRAKMPYTEAVIHEIQRFSDLLPMGVPHIVTQHTSFRGYIIPKDTEVF_LILSTALHDPHYFEKPDAFNPDHFLDANGALKKNEAFIPFSLGKRICLGEGIARAELFLFFTTILQNFSVASPVA_PEDIDLTPQECGVGKIPPMYQIRFLPR, ________MELSVLLFLALLTGLLLLLVQGHPNTHGRLPPGP_RPLPLLGNLLQMDRRGLLKSF_LRFREKYGDVFTVHLGPRPVVMLCGVEAIREALVDKAEAFSGRGKIA_MVDPVFRGYGVIFANGNRWKVLRRFSVTTMRDFGMGKRSVEERIQEEAQCLIQELRKSKGALMDPTFLFQSITANIICSIVFGKRFHYQDQEFLKILNLFYQTFSLVSSVFGQLFELFSGFLKYFPGAHRQVYKNLQEINAYIGHSVEKHRETLDPSTPKDLIDTYLLHMEKEKSNAHSEFSHQNL_TLNTLSLFFAGTETTSTTL_RYGFLLMLKYPHVAERVYREIEQVIGPH_RPPELHDRAKMPYTEAVIHEIQRFADLLPMGVPHIVTQHTSFRGYIIPKDTEVF_LILSTALRDPHYFEKPDAFNPDHFLDASGALKKNEAFIPFSLGKRICLGEGIARAELFLFFTTILQNFSVASPVA_PEDIDLTPQECGVGKIPPTYQIRFLPR, ________MELSVLLFLALLTGLLLLLVQRHPNTHGRLPPGP_RPLPLLGNLLQMDRRGLLKSF_LRFREKYGDVFTVHLGPRPVVVLCGVQAIREALVDKAEAFSGRGKIAIM_DPVYQGYGVIFANGNRWKVLRRFSVTTMRDFGMGKQSVEERIQEEAQCLIEELQKSKGALMDPTFLFHSITANIICSIVFGKRFHYQDQEFLKMLNLFCQSFSLISSISSQLFELFSGFLKYFPGAHRQLYKNLQEINAYIGHSVEKHRETLDPSAPQDLIDTYLLHMEKEKSNPHSEFSHQNL_IINTLSLFFAGTETTSTTLC_YGFLLMLKYPHVAERVYKEIEQVVGPHC_PPVLDDRAKMPYTEAVIHEIQRFADLLPMGVPHIVTQHTRFRGYIIPKDTEVF_LILSTALRDPHYFEKPDAFNPDHFLDANGALKKNEAFIPFSLGKRICLGEGIARAELFLFFTTILQNFSVASPVA_PEDIDLTPQECGVGKIPPTYQIRFLPH, ________MELSVLLFLALLTGLLLLLVQRHPNAHGRLPPGPC_PLPLLGNLLQMDRRGLLRSF_LRFREKYGDVFTVYLGPRPVVMLCGVEAIREALVDNAEAFSGRGKIAI_TDPVFQGYGVVFANGNRWKVLRRFSLTTMRDFGMGKRSVEERIQEEAQCLIEELRKSKGALVDPTFLFHSITANIICSIVFGKRFHYQDQEFLKILNLFYHTFSLASSMFGQLFELLSGFLKYFPGAHRQVYKNLQEINAYIGHSVEKHRETLDPSAPQDLIDSYLLQMEKEKSNPHSEFSHRNL_IINTLSLFFAGTETTSTTL_RYGFLLMLKYPHVAERIYKEIEQVIGPH_RPPALDDRAKMPYTEAVIHEIQRFADLLPMGVPHIVTQQTSFRGYIIPKDTEVFPL_LSTALHDPHYFEKPDTFNPDHFLDANGALKKNEAFIPFSLGRRMCLGEGIARNELFLFFTTILQNFSVASPVAL_EDIDLTPQECGVGKIPPTYQIRFLPR, ________MELSVLLFLALLTGLLLLLVQRHPNAHGRLPPGPC_PLPLLGNLLQMDRRGLLRSF_LRFREKYGDVFTVYLGPRPVVMLCGVEAIREALVDNAEAFSGRGKIAI_TDPVFQGYGVVFANGNRWKVLRRFSLTTMRDFGMGKRSVEERIQEEAQCLIEELRKSKGALVDPTFLFHSITANIICSIVFGKRFHYQDQEFLKILNLFYHTFSLASSMFGQLFELLSGFLKYFPGAHRQVYKNLQEINAYIGHSVEKHRETLDPSAPQDLIDSYLLQMEKEKSNPHSEFSHRNL_IINTLSLFFAGTETTSTTL_RYGFLLMLKYPHVAERIYKEIEQVIGPH_RPPALDDRAKMPYTEAVIHEIQRFADLLPMGVPHIVTQQTSFRGYIIPKDTEVFPL_LSTALHDPHYFEKPDTFNPDHFLDANGALKKNEAFIPFSLGRRMCLGEGIARNELFLFFTTILQNFSVASPVA_PEDIDLTPQESGVGKIPPTYQIRFLPR, ________MELSVLLFLALLTGLLLLLVQRHPNAHGRLPPGPC_PLPLLGNLLQMDRRGLLRSF_LRFREKYGDVFTVYLGPRPVVMLCGVEAIREALVDNAEAFSGRGKIAI_TDPVFQGYGVVFANGNRWKVLRRFSLTTMRDFGMGKRSVEERIQEEAQCLIEELRKSKGALVDPTFLFHSITANIICSIVFGKRFHYQDQEFLKILNLFYHTFSLASSMFGQLFELLSGFLKYFPGAHRQVYKNLQEINAYIGHSVEKHRETLDPSAPQDLIDSYLLQMEKEKSNPHSEFSHRNL_IINTLSLFFAGTETTSTTL_RYGFLLMLKYPHVAERIYKEIEQVIGPH_RPPALDDRAKMPYTEAVIHEIQRFADLLPMGVPHIVTQQTSFRGYIIPKDMEVFPL_LSTALHDPHYFEKPDTFNPDHFLDANGALKKNEAFIPFSLGRRICLGEGIARNELFLFFTTILQNFSVASPVA_PEDIDLTPQESGVGKIPPTYQIRFLPR, ________MELSVLLFLALLTGLLLLLVQRHPNAHGRLPPGP_RPLPLLGNLLQMDRRGLLRSF_LRFREKYGDVFTVYLGPRPVVMLCGVEAIREALVDNAEAFSGRGKIAI_TDPVFQGYGVVFANGNRWKVLRRFSLTTMRDFGMGKRSVEERIQEEAQCLIEELRKSKGALVDPTFLFHSITANIICSIVFGKRFHYQDQEFLKILNLFYHTFSLASSMFGQLFELLSGFLKYFPGAHRQVYKNLQEINAYIGHSVEKHRETLDPSAPQDLIDSYLLQMEKEKSNPHSEFSHRNL_IINTLSLFFAGTETTSTTL_RYGFLLMLKYPHVAERIYKEIEQVIGPH_RPPALDDRAKMPYTEAVIHEIQRFADLLPMGVPHIVTQQTSFRGYIIPKDTEVFPL_LSTALHDPHYFEKPDTFNPDHFLDANGALKKNEAFIPFSLGRRICLGEGIARNELFLFFTTILQNFSVASPVA_PEDIDLTPQESGVGKIPPTYQIRFLPR, ________MELSVLLFLALLTGLLLLLVQRHPNAHGRLPPGP_RPLPLLGNLLQMDRRGLLRSFH_RFREKYGDVFTVYLGPRPVVMLCGVEAIREALVDNAEAFSGRGKIAI_TDPVFQGYGVVFANGNRWKVLRRFSLTTMRDFGMGKRSVEERIQEEAQCLIEELRKSKGALVDPTFLFHSITANIICSIVFGKRFHYQDQEFLKILNLFYHTFSLASSMFGQLFELLSGFLKYFPGAHRQVYKNLQEINAYIGHSVEKHRETLDPSAPQDLIDSYLLQMEKEKSNPHSEFSHRNL_IMNTLSLFFAGTETTSTTL_RYGFLLMLKYPHVAERIYKEIEQVIGPH_RPPALDDRAKMPYTEAVIHEIQRFADLLPMGVPHIVTQQTSFRGYIIPKDTEVFPL_LSTALHDPHYFEKPDTFNPDHFLDANGALKKNEAFIPFSLGRRICLGEGIARNELFLFFTTILQNFSVASPVA_PEDIDLTPQESGVGKIPPTYQIRFLPR, ________MELSVLLFLALLTGLLLLLVQRHPNTHDRLPPGP_RPLPLLGNLLQMDRRGLLKSF_LRFREKYGDVFTVHLGPRPVVMLCGVEAIREALVDKAEAFSGRGKIA_MVDPFFRGYGVIFANGNRWKVLRRFSVTTMRDFGMGKRSVEERIQEEAQCLIEELRKSKGALMDPTFLFQSITANIICSIVFGKRFHYQDQEFLKMLNLFYQTFSLISSVFGQLFELFSGFLKYFPGAHRQVYKNLQEINAYIGHSVEKHRETLDPSAPKDLIDTYLLHMEKEKSNAHSEFSHQNLN_LNTLSLFFAGTETTSTTL_RYGFLLMLKYPHVAERVYREIEQVIGPH_RPPELHDRAKMPYTEAVIYEIQRFSDLLPMGVPHIVTQHTSFRGYIIPKDTEVF_LILSTALHDPHYFEKPDAFNPDHFLDANGALKKTEAFIPFSLGKRICLGEGIARAELFLFFTTILQNFSMASPVA_PEDIDLTPQECGVGKIPPTYQIRFLPR]\n"
     ]
    }
   ],
   "source": [
    "print(\"Aligned sequences:\", aligned_seqs)"
   ]
  },
  {
   "cell_type": "markdown",
   "metadata": {},
   "source": [
    "## MSA with a simpler (easier to check visually) example"
   ]
  },
  {
   "cell_type": "code",
   "execution_count": 13,
   "metadata": {},
   "outputs": [],
   "source": [
    "# Using simpler substitution matrix\n",
    "ms = MSA(sm, -1)"
   ]
  },
  {
   "cell_type": "code",
   "execution_count": 14,
   "metadata": {},
   "outputs": [
    {
     "name": "stderr",
     "output_type": "stream",
     "text": [
      "100%|███████████████████████| 2/2 [00:00<00:00, 666.77it/s]\n"
     ]
    },
    {
     "data": {
      "text/plain": [
       "(ATGACC, [AT_AGC, A__ACC, ATGA_C])"
      ]
     },
     "execution_count": 14,
     "metadata": {},
     "output_type": "execute_result"
    }
   ],
   "source": [
    "seqs = [DNASeq(\"ATAGC\"), DNASeq(\"AACC\"), DNASeq(\"ATGAC\")]\n",
    "ms.align(seqs)"
   ]
  },
  {
   "cell_type": "markdown",
   "metadata": {},
   "source": [
    "# Phylogenetic Trees\n",
    "* Using a simple example (from the classes)\n",
    "* Using the BLAST sequences (takes longer to execute ~200s)"
   ]
  },
  {
   "cell_type": "code",
   "execution_count": 15,
   "metadata": {},
   "outputs": [],
   "source": [
    "# simple sm and gap penalty of -1\n",
    "ps = PTree(sm, -1)"
   ]
  },
  {
   "cell_type": "code",
   "execution_count": 16,
   "metadata": {},
   "outputs": [
    {
     "name": "stderr",
     "output_type": "stream",
     "text": [
      "100%|███████████████████████| 6/6 [00:00<00:00, 315.61it/s]\n"
     ]
    },
    {
     "name": "stdout",
     "output_type": "stream",
     "text": [
      "0 3 3 5 \n",
      "0 0 6 8 \n",
      "0 0 0 5 \n",
      "0 0 0 0 \n",
      "\n"
     ]
    }
   ],
   "source": [
    "# first produce the distance matrix\n",
    "seqs = [DNASeq(\"A_CATATC_AT_\"), DNASeq(\"A_GATATT_AG_\"), DNASeq(\"AACAGATC_T__\"), DNASeq(\"G_CAT__CGATT\")]\n",
    "mxs = ps.distance_matrix(seqs)\n",
    "print(mxs)"
   ]
  },
  {
   "cell_type": "code",
   "execution_count": 17,
   "metadata": {},
   "outputs": [
    {
     "name": "stdout",
     "output_type": "stream",
     "text": [
      "simple clustering representation (((0,2),1),3)\n"
     ]
    }
   ],
   "source": [
    "# perform UPGMA clustering\n",
    "c, t = ps.clustering(mxs)\n",
    "print(\"simple clustering representation\", c)"
   ]
  },
  {
   "cell_type": "code",
   "execution_count": 18,
   "metadata": {},
   "outputs": [
    {
     "name": "stdout",
     "output_type": "stream",
     "text": [
      "ASCII tree representation\n",
      "                                                           __________________ 0\n",
      "                              ____________________________|\n",
      "  ___________________________|                            |__________________ 2\n",
      " |                           |\n",
      "_|                           |____________________________ 1\n",
      " |\n",
      " |___________________________ 3\n",
      "\n",
      "\n"
     ]
    }
   ],
   "source": [
    "print(\"ASCII tree representation\")\n",
    "print(ps)"
   ]
  },
  {
   "cell_type": "code",
   "execution_count": 19,
   "metadata": {},
   "outputs": [
    {
     "name": "stdout",
     "output_type": "stream",
     "text": [
      "drawing the tree with Phylo:\n"
     ]
    },
    {
     "data": {
      "image/png": "[encoded data removed]",
      "text/plain": [
       "<Figure size 432x288 with 1 Axes>"
      ]
     },
     "metadata": {
      "needs_background": "light"
     },
     "output_type": "display_data"
    }
   ],
   "source": [
    "print(\"drawing the tree with Phylo:\")\n",
    "ps.draw()"
   ]
  },
  {
   "cell_type": "code",
   "execution_count": 20,
   "metadata": {},
   "outputs": [
    {
     "name": "stdout",
     "output_type": "stream",
     "text": [
      "Phylogeny(name='ABI Tree', rooted=True)\n",
      "    Clade()\n",
      "        Clade(branch_length=2.25)\n",
      "            Clade(branch_length=2.25)\n",
      "                Clade(branch_length=1.5, name='0')\n",
      "                Clade(branch_length=1.5, name='2')\n",
      "            Clade(branch_length=2.25, name='1')\n",
      "        Clade(branch_length=2.25, name='3')\n"
     ]
    }
   ],
   "source": [
    "# You can also check Phylo's tree text view with\n",
    "print(ps.tree)"
   ]
  },
  {
   "cell_type": "markdown",
   "metadata": {},
   "source": [
    "### Repeat for the BLAST example\n",
    "This takes longer to execute, but you can use the progress bar to keep track of time"
   ]
  },
  {
   "cell_type": "code",
   "execution_count": 21,
   "metadata": {},
   "outputs": [],
   "source": [
    "# blosum and gap penalty of -1\n",
    "p = PTree(blosum, -1)"
   ]
  },
  {
   "cell_type": "code",
   "execution_count": 22,
   "metadata": {},
   "outputs": [
    {
     "name": "stderr",
     "output_type": "stream",
     "text": [
      "100%|██████████████████████| 55/55 [03:24<00:00,  3.53s/it]\n"
     ]
    },
    {
     "name": "stdout",
     "output_type": "stream",
     "text": [
      " 0  8 17 19 44 51 50 50 47 49 15 \n",
      " 0  0  9 11 36 43 42 42 39 41  7 \n",
      " 0  0  0 14 36 43 42 42 39 41 12 \n",
      " 0  0  0  0 35 42 41 41 38 40 14 \n",
      " 0  0  0  0  0 47 46 46 43 46 37 \n",
      " 0  0  0  0  0  0  3  5  6  9 45 \n",
      " 0  0  0  0  0  0  0  2  3  6 44 \n",
      " 0  0  0  0  0  0  0  0  3  6 44 \n",
      " 0  0  0  0  0  0  0  0  0  3 41 \n",
      " 0  0  0  0  0  0  0  0  0  0 43 \n",
      " 0  0  0  0  0  0  0  0  0  0  0 \n",
      "\n"
     ]
    }
   ],
   "source": [
    "mx = p.distance_matrix(blast_seqs)\n",
    "print(mx)"
   ]
  },
  {
   "cell_type": "code",
   "execution_count": 23,
   "metadata": {},
   "outputs": [],
   "source": [
    "# This piece of code is only used to extract the contents within brackets from the species names\n",
    "# so as to get more readable visualizations\n",
    "from copy import deepcopy\n",
    "def get_seq_with_name(x):\n",
    "    y = deepcopy(x)\n",
    "    n = y.name\n",
    "    y.name = n[n.index(\"[\")+1:n.index(\"]\")]\n",
    "    return y\n",
    "blast_seqs_names = list(map(get_seq_with_name, blast_seqs))"
   ]
  },
  {
   "cell_type": "code",
   "execution_count": 24,
   "metadata": {},
   "outputs": [
    {
     "name": "stdout",
     "output_type": "stream",
     "text": [
      "simple clustering representation ((((((1,10),2),3),0),4),(((6,7),5),(8,9)))\n"
     ]
    }
   ],
   "source": [
    "# perform UPGMA clustering\n",
    "c, t = p.clustering(mx, blast_seqs_names)\n",
    "print(\"simple clustering representation\", c)"
   ]
  },
  {
   "cell_type": "code",
   "execution_count": 25,
   "metadata": {},
   "outputs": [
    {
     "name": "stdout",
     "output_type": "stream",
     "text": [
      "ASCII tree representation\n",
      "                                                   __ Pan paniscus\n",
      "                                              ____|\n",
      "                                         ____|    |__ Homo sapiens\n",
      "                                        |    |\n",
      "                                  ______|    |____ Gorilla gorilla gorilla\n",
      "                                 |      |\n",
      "                  _______________|      |____ Pongo abelii\n",
      "                 |               |\n",
      "  _______________|               |______ Pan troglodytes\n",
      " |               |\n",
      " |               |_______________ Pongo abelii\n",
      " |\n",
      "_|                   , Macaca mulatta\n",
      " |                  _|\n",
      " |                _| | Macaca nemestrina\n",
      " |               | |\n",
      " |_______________| |_ Macaca fascicularis\n",
      "                 |\n",
      "                 | , Theropithecus gelada\n",
      "                 |_|\n",
      "                   | Cercocebus atys\n",
      "\n",
      "\n"
     ]
    }
   ],
   "source": [
    "print(\"ASCII tree representation\")\n",
    "print(p)"
   ]
  },
  {
   "cell_type": "code",
   "execution_count": 26,
   "metadata": {},
   "outputs": [
    {
     "name": "stdout",
     "output_type": "stream",
     "text": [
      "drawing the tree with Phylo:\n"
     ]
    },
    {
     "data": {
      "image/png": "[encoded data removed]",
      "text/plain": [
       "<Figure size 432x288 with 1 Axes>"
      ]
     },
     "metadata": {
      "needs_background": "light"
     },
     "output_type": "display_data"
    }
   ],
   "source": [
    "print(\"drawing the tree with Phylo:\")\n",
    "p.draw()"
   ]
  },
  {
   "cell_type": "code",
   "execution_count": 27,
   "metadata": {},
   "outputs": [
    {
     "name": "stdout",
     "output_type": "stream",
     "text": [
      "Phylogeny(name='ABI Tree', rooted=True)\n",
      "    Clade()\n",
      "        Clade(branch_length=19.906)\n",
      "            Clade(branch_length=19.906)\n",
      "                Clade(branch_length=8.312)\n",
      "                    Clade(branch_length=6.625)\n",
      "                        Clade(branch_length=5.25)\n",
      "                            Clade(branch_length=3.5, name='Pan paniscus')\n",
      "                            Clade(branch_length=3.5, name='Homo sapiens')\n",
      "                        Clade(branch_length=5.25, name='Gorilla gorilla gorilla')\n",
      "                    Clade(branch_length=6.625, name='Pongo abelii')\n",
      "                Clade(branch_length=8.312, name='Pan troglodytes')\n",
      "            Clade(branch_length=19.906, name='Pongo abelii')\n",
      "        Clade(branch_length=19.906)\n",
      "            Clade(branch_length=3.0)\n",
      "                Clade(branch_length=2.0)\n",
      "                    Clade(branch_length=1.0, name='Macaca mulatta')\n",
      "                    Clade(branch_length=1.0, name='Macaca nemestrina')\n",
      "                Clade(branch_length=2.0, name='Macaca fascicularis')\n",
      "            Clade(branch_length=3.0)\n",
      "                Clade(branch_length=1.5, name='Theropithecus gelada')\n",
      "                Clade(branch_length=1.5, name='Cercocebus atys')\n"
     ]
    }
   ],
   "source": [
    "# You can also check Phylo's tree text view with\n",
    "print(p.tree)"
   ]
  },
  {
   "cell_type": "markdown",
   "metadata": {},
   "source": [
    "### Note\n",
    "The indexes in the tree represent the indexes in the sequences of `blast_seqs` but they are represented with indexes for clarity, to get names of the sequences for a given index, simply do:"
   ]
  },
  {
   "cell_type": "code",
   "execution_count": 28,
   "metadata": {},
   "outputs": [
    {
     "name": "stdout",
     "output_type": "stream",
     "text": [
      "XP_016791527.1 cytochrome P450 2B6 [Pan troglodytes]\n"
     ]
    }
   ],
   "source": [
    "print(blast_seqs[0].name)"
   ]
  },
  {
   "cell_type": "markdown",
   "metadata": {},
   "source": [
    "# Graphs\n",
    "To visualize the graphs from the distance matrices, one only has to call the `graph(cut)` function for a given matrix, the `cut` parameter is a value grater than the maximum allowed distance for an edge to exist. "
   ]
  },
  {
   "cell_type": "code",
   "execution_count": 29,
   "metadata": {},
   "outputs": [
    {
     "name": "stdout",
     "output_type": "stream",
     "text": [
      "0 3 3 5 \n",
      "0 0 6 8 \n",
      "0 0 0 5 \n",
      "0 0 0 0 \n",
      "\n"
     ]
    }
   ],
   "source": [
    "# Using the simple example for the matrix\n",
    "print(mxs)"
   ]
  },
  {
   "cell_type": "code",
   "execution_count": 30,
   "metadata": {},
   "outputs": [
    {
     "data": {
      "image/png": "[encoded data removed]",
      "text/plain": [
       "<Figure size 432x288 with 1 Axes>"
      ]
     },
     "metadata": {},
     "output_type": "display_data"
    }
   ],
   "source": [
    "mxs.graph(cut=7)"
   ]
  },
  {
   "cell_type": "code",
   "execution_count": 31,
   "metadata": {},
   "outputs": [
    {
     "data": {
      "image/png": "[encoded data removed]",
      "text/plain": [
       "<Figure size 432x288 with 1 Axes>"
      ]
     },
     "metadata": {},
     "output_type": "display_data"
    }
   ],
   "source": [
    "mxs.graph(cut=4)"
   ]
  },
  {
   "cell_type": "code",
   "execution_count": 32,
   "metadata": {},
   "outputs": [
    {
     "name": "stdout",
     "output_type": "stream",
     "text": [
      " 0  8 17 19 44 51 50 50 47 49 15 \n",
      " 0  0  9 11 36 43 42 42 39 41  7 \n",
      " 0  0  0 14 36 43 42 42 39 41 12 \n",
      " 0  0  0  0 35 42 41 41 38 40 14 \n",
      " 0  0  0  0  0 47 46 46 43 46 37 \n",
      " 0  0  0  0  0  0  3  5  6  9 45 \n",
      " 0  0  0  0  0  0  0  2  3  6 44 \n",
      " 0  0  0  0  0  0  0  0  3  6 44 \n",
      " 0  0  0  0  0  0  0  0  0  3 41 \n",
      " 0  0  0  0  0  0  0  0  0  0 43 \n",
      " 0  0  0  0  0  0  0  0  0  0  0 \n",
      "\n"
     ]
    }
   ],
   "source": [
    "# For the Blast sequences we have the matrix\n",
    "print(mx)"
   ]
  },
  {
   "cell_type": "code",
   "execution_count": 33,
   "metadata": {},
   "outputs": [
    {
     "data": {
      "image/png": "[encoded data removed]",
      "text/plain": [
       "<Figure size 432x288 with 1 Axes>"
      ]
     },
     "metadata": {},
     "output_type": "display_data"
    }
   ],
   "source": [
    "mx.graph(40)"
   ]
  },
  {
   "cell_type": "code",
   "execution_count": 34,
   "metadata": {},
   "outputs": [
    {
     "data": {
      "image/png": "[encoded data removed]",
      "text/plain": [
       "<Figure size 432x288 with 1 Axes>"
      ]
     },
     "metadata": {},
     "output_type": "display_data"
    }
   ],
   "source": [
    "mx.graph(20)"
   ]
  },
  {
   "cell_type": "code",
   "execution_count": 35,
   "metadata": {},
   "outputs": [
    {
     "data": {
      "image/png": "[encoded data removed]",
      "text/plain": [
       "<Figure size 432x288 with 1 Axes>"
      ]
     },
     "metadata": {},
     "output_type": "display_data"
    }
   ],
   "source": [
    "mx.graph(10)"
   ]
  }
 ],
 "metadata": {
  "kernelspec": {
   "display_name": "Python 3",
   "language": "python",
   "name": "python3"
  },
  "language_info": {
   "codemirror_mode": {
    "name": "ipython",
    "version": 3
   },
   "file_extension": ".py",
   "mimetype": "text/x-python",
   "name": "python",
   "nbconvert_exporter": "python",
   "pygments_lexer": "ipython3",
   "version": "3.7.2"
  },
  "latex_envs": {
   "LaTeX_envs_menu_present": true,
   "autoclose": false,
   "autocomplete": true,
   "bibliofile": "biblio.bib",
   "cite_by": "apalike",
   "current_citInitial": 1,
   "eqLabelWithNumbers": true,
   "eqNumInitial": 1,
   "hotkeys": {
    "equation": "Ctrl-E",
    "itemize": "Ctrl-I"
   },
   "labels_anchors": false,
   "latex_user_defs": false,
   "report_style_numbering": false,
   "user_envs_cfg": false
  }
 },
 "nbformat": 4,
 "nbformat_minor": 2
}
